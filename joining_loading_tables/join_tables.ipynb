{
 "cells": [
  {
   "cell_type": "code",
   "execution_count": null,
   "metadata": {},
   "outputs": [
    {
     "name": "stdout",
     "output_type": "stream",
     "text": [
      "✅ Wrote 1808 rows to joined_listings in your database\n"
     ]
    }
   ],
   "source": [
    "import pandas as pd\n",
    "from rapidfuzz import process, fuzz\n",
    "from sqlalchemy import create_engine\n",
    "from dotenv import load_dotenv\n",
    "import os\n",
    "\n",
    "load_dotenv()\n",
    "engine = create_engine(os.getenv(\"DATABASE_URL\"))\n",
    "listings = pd.read_sql(\"SELECT * FROM filter_listings\", engine)\n",
    "ratings  = pd.read_sql(\"SELECT residential_complex, rating FROM complex_ratings\", engine)\n",
    "gis_names = ratings[\"residential_complex\"].tolist()\n",
    "def match(name):\n",
    "    res = process.extractOne(name, gis_names, scorer=fuzz.token_sort_ratio)\n",
    "    return res[0] if res and res[1] > 80 else None\n",
    "\n",
    "listings[\"matched\"] = listings[\"residential_complex\"].apply(match)\n",
    "merged = listings.merge(\n",
    "    ratings.rename(columns={\"residential_complex\": \"matched\"}),\n",
    "    on=\"matched\", how=\"left\"\n",
    ").rename(columns={\"rating\": \"rating_2gis\"}).drop(columns=\"matched\")\n",
    "merged = merged[~(merged == \"не указано\").any(axis=1)]\n",
    "merged.to_sql(\n",
    "    name=\"joined_listings\",\n",
    "    con=engine,\n",
    "    if_exists=\"replace\",\n",
    "    index=False\n",
    ")\n",
    "\n",
    "print(f\"Wrote {len(merged)} rows to joined_listings in your database\")"
   ]
  }
 ],
 "metadata": {
  "kernelspec": {
   "display_name": "venv",
   "language": "python",
   "name": "python3"
  },
  "language_info": {
   "codemirror_mode": {
    "name": "ipython",
    "version": 3
   },
   "file_extension": ".py",
   "mimetype": "text/x-python",
   "name": "python",
   "nbconvert_exporter": "python",
   "pygments_lexer": "ipython3",
   "version": "3.12.2"
  }
 },
 "nbformat": 4,
 "nbformat_minor": 2
}
